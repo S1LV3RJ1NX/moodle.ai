{
 "cells": [
  {
   "cell_type": "markdown",
   "metadata": {},
   "source": [
    "# Simple Linear Regression\n",
    "\n",
    "In this post we shall be implementing Simple Linear Regression from Scratch in Python. Later we shall see how to use scikit-learn library for the same."
   ]
  },
  {
   "cell_type": "markdown",
   "metadata": {},
   "source": [
    "## VIDEO :"
   ]
  },
  {
   "cell_type": "code",
   "execution_count": 1,
   "metadata": {},
   "outputs": [
    {
     "data": {
      "text/html": [
       "\n",
       "        <iframe\n",
       "            width=\"600\"\n",
       "            height=\"400\"\n",
       "            src=\"https://drive.google.com/file/d/14c7IfkmpcNHEaw0FmCL03KqfO-DsBa7H/preview\"\n",
       "            frameborder=\"0\"\n",
       "            allowfullscreen\n",
       "        ></iframe>\n",
       "        "
      ],
      "text/plain": [
       "<IPython.lib.display.IFrame at 0x7f4d907b5dd8>"
      ]
     },
     "execution_count": 1,
     "metadata": {},
     "output_type": "execute_result"
    }
   ],
   "source": [
    "from IPython.display import HTML,IFrame\n",
    "url1 = 'https://drive.google.com/file/d/'\n",
    "url2 = '/preview'\n",
    "id = '14c7IfkmpcNHEaw0FmCL03KqfO-DsBa7H'\n",
    "url =url1+id+url2\n",
    "IFrame(url,width=\"600\",height=\"400\")"
   ]
  },
  {
   "cell_type": "markdown",
   "metadata": {},
   "source": [
    "## Where can Linear Regression be used? \n",
    "\n",
    "It is mostly used where we want to predict continuous data. In Linear Regression we build a model which predicts the line that best fits the data. Similar to image below:\n",
    "![Regression](img/01_reg_line.png)"
   ]
  },
  {
   "cell_type": "markdown",
   "metadata": {},
   "source": [
    "## What is Linear Regression\n",
    "The objective of a linear regression model is to find a relationship between one or more features(independent variables) and a continuous target variable(dependent variable). When there is only feature it is called Uni-variate Linear Regression and if there are multiple features, it is called Multiple Linear Regression."
   ]
  },
  {
   "cell_type": "markdown",
   "metadata": {},
   "source": [
    "## Hypothesis of Linear Regression\n",
    "\n",
    "The linear regression model can be represented by the following equation:\n",
    "\n",
    "![Hypothesis](img/02_hyp.png)\n",
    "\n",
    "- Y is the predicted value\n",
    "- θ₀ is the bias term.\n",
    "- θ₁,…,θₙ are the model parameters\n",
    "- x₁, x₂,…,xₙ are the feature values.\n",
    "- The above hypothesis can also be represented by\n",
    "\n",
    "![Hypothesis Vector](img/03_hyp2.png)\n",
    "\n",
    "where\n",
    "- θ is the model’s parameter vector including the bias term θ₀\n",
    "- x is the feature vector with x₀ =1"
   ]
  },
  {
   "cell_type": "markdown",
   "metadata": {},
   "source": [
    "## Generate DataSet"
   ]
  },
  {
   "cell_type": "code",
   "execution_count": 1,
   "metadata": {},
   "outputs": [],
   "source": [
    "# imports\n",
    "import numpy as np\n",
    "\n",
    "# generate random data-set\n",
    "np.random.seed(0)\n",
    "x = np.random.rand(100, 1)\n",
    "y = 2 + 3 * x + np.random.rand(100, 1)"
   ]
  },
  {
   "cell_type": "code",
   "execution_count": 2,
   "metadata": {},
   "outputs": [
    {
     "data": {
      "text/plain": [
       "Text(0, 0.5, 'y')"
      ]
     },
     "execution_count": 2,
     "metadata": {},
     "output_type": "execute_result"
    }
   ],
   "source": [
    "# plot it\n",
    "import matplotlib.pyplot as plt\n",
    "plt.scatter(x,y,s=10)\n",
    "plt.xlabel('x')\n",
    "plt.ylabel('y')"
   ]
  },
  {
   "cell_type": "markdown",
   "metadata": {},
   "source": [
    "## Training a Linear Regression Model\n",
    "Training of the model here means to find the parameters so that the model best fits the data.\n",
    "\n",
    "<b><i>How do we determine the best fit line?</b></i>\n",
    "\n",
    "The line for which the the error between the predicted values and the observed values is minimum is called the best fit line or the regression line. These errors are also called as residuals. The residuals can be visualized by the vertical lines from the observed data value to the regression line.\n",
    "![Error Line](img/04_error_line.png)"
   ]
  },
  {
   "cell_type": "markdown",
   "metadata": {},
   "source": [
    "To define and measure the error of our model we define the cost function as the sum of the squares of the residuals. The cost function is denoted by\n",
    "\n",
    "![Cost](img/05_cost.png)\n",
    "\n",
    "where the hypothesis function h(x) is denoted by\n",
    "\n",
    "![Hypothesis0](img/06_hyp.png)\n",
    "\n",
    "and m is the total number of training examples in our data-set.\n",
    "\n",
    "Our objective is to find the model parameters so that the cost function is minimum. We will use Gradient Descent to find this."
   ]
  },
  {
   "cell_type": "markdown",
   "metadata": {},
   "source": [
    "## Gradient Descent\n",
    "\n",
    "Gradient descent is a generic optimization algorithm used in many machine learning algorithms. It iteratively tweaks the parameters of the model in order to minimize the cost function. The steps of gradient descent is outlined below.\n",
    "\n",
    "1. We first initialize the model parameters with some random values. This is also called as random initialization.\n",
    "2. Now we need to measure how the cost function changes with change in it’s parameters. Therefore we compute the partial derivatives of the cost function w.r.t to the parameters θ₀, θ₁, … , θₙ\n",
    "\n",
    "![Partialderivative 1](img/07.png)\n",
    "\n",
    "\n",
    "![Partial der 2](img/08.png)\n",
    "\n",
    "\n",
    "similarly, the partial derivative of the cost function w.r.t to any parameter can be denoted by\n",
    "\n",
    "![Partial der cost](img/09.png)\n",
    "\n",
    "We can compute the partial derivatives for all parameters at once using\n",
    "\n",
    "![](img/10.png)\n",
    "\n",
    "3. After computing the derivative we update the parameters as given below\n",
    "![](img/11.png)\n",
    "where α is the learning parameter.\n",
    "\n",
    "We can update all the parameters at once using,\n",
    "![](img/12.png)\n",
    "\n",
    "We repeat the steps 2,3 until the cost function converges to the minimum value. If the value of α is too small, the cost function takes larger time to converge. If α is too large, gradient descent may overshoot the minimum and may finally fail to converge.\n",
    "\n",
    "![](img/13.png)"
   ]
  },
  {
   "cell_type": "markdown",
   "metadata": {},
   "source": [
    "When the learning rate is very slow, the gradient descent takes larger time to find the best fit line.\n",
    "\n",
    "![](img/14.gif)\n",
    "\n",
    "When the learning rate is normal\n",
    "![](img/15.gif)\n",
    "\n",
    "When learning rate is high, gradient descent algorithm keeps overshooting the best fit line and may even fail to find the best line.\n",
    "![](img/16.gif)"
   ]
  },
  {
   "cell_type": "markdown",
   "metadata": {},
   "source": [
    "## Implementation"
   ]
  },
  {
   "cell_type": "code",
   "execution_count": 3,
   "metadata": {},
   "outputs": [],
   "source": [
    "# Creating LinearRegression Class\n",
    "\n",
    "class LinearRegression:\n",
    "    \n",
    "    # Constructor\n",
    "    def __init__(self, alpha=0.05, iterations=1000):\n",
    "        self.alpha = alpha\n",
    "        self.iter = iterations\n",
    "        \n",
    "    # Fit the model\n",
    "    # x: (no_samples, no_features)\n",
    "    # y: (no_samples, no_target_values)\n",
    "    def fit(self, x, y):\n",
    "      \n",
    "        # Save cost history\n",
    "        self.cost = []\n",
    "        \n",
    "        # Initialize weights (no_features, 1)\n",
    "        self.wt = np.zeros((x.shape[1],1))\n",
    "        \n",
    "        # no_samples\n",
    "        m = y.shape[0]\n",
    "        \n",
    "        # Calculate cost and gradient\n",
    "        for _ in range(self.iter):\n",
    "            \n",
    "            y_pred = np.dot(x, self.wt)\n",
    "            error = y_pred - y\n",
    "            gradient_vector = np.dot(x.T, error)\n",
    "            \n",
    "            # update weight\n",
    "            self.wt -= (self.alpha / m) * gradient_vector\n",
    "            \n",
    "            # MSE\n",
    "            cost = np.sum((error ** 2)) / (2 * m)\n",
    "            self.cost.append(cost)\n",
    "            \n",
    "        return self\n",
    "    \n",
    "    # Predict Value\n",
    "    def predict(self, x):\n",
    "        \n",
    "        return np.dot(x, self.wt)"
   ]
  },
  {
   "cell_type": "code",
   "execution_count": 4,
   "metadata": {},
   "outputs": [],
   "source": [
    "# Performance Metric\n",
    "def RMSE(y_actual, y_predict):\n",
    "    \n",
    "    sum_of_sq_error = np.sum((y_actual - y_predict) ** 2)\n",
    "    return np.sqrt(sum_of_sq_error)"
   ]
  },
  {
   "cell_type": "code",
   "execution_count": 5,
   "metadata": {},
   "outputs": [],
   "source": [
    "# data\n",
    "np.random.seed(0)\n",
    "x = np.random.rand(100, 1)\n",
    "y = 2 + 3 * x + np.random.rand(100, 1)"
   ]
  },
  {
   "cell_type": "code",
   "execution_count": 6,
   "metadata": {},
   "outputs": [
    {
     "name": "stdout",
     "output_type": "stream",
     "text": [
      "(100, 1) (100, 1)\n"
     ]
    }
   ],
   "source": [
    "print(x.shape,y.shape)"
   ]
  },
  {
   "cell_type": "code",
   "execution_count": 7,
   "metadata": {},
   "outputs": [
    {
     "data": {
      "text/plain": [
       "<__main__.LinearRegression at 0x7f06c9aeb358>"
      ]
     },
     "execution_count": 7,
     "metadata": {},
     "output_type": "execute_result"
    }
   ],
   "source": [
    "'''\n",
    "np_c: slice objects to concatenation along the second axis.\n",
    "\n",
    "This is short-hand for ``np.r_['-1,2,0', index expression]``, which is\n",
    "useful because of its common occurrence. In particular, arrays will be\n",
    "stacked along their last axis after being upgraded to at least 2-D with\n",
    "1's post-pended to the shape (column vectors made out of 1-D arrays).\n",
    "\n",
    "For detailed documentation, see `r_`.\n",
    "\n",
    "Examples\n",
    "--------\n",
    ">>> np.c_[np.array([[1,2,3]]), 0, 0, np.array([[4,5,6]])]\n",
    "array([[1, 2, 3, 0, 0, 4, 5, 6]])\n",
    "'''\n",
    "m = x.shape[0]\n",
    "# add coeff term to x\n",
    "x_train = np.c_[np.ones((m, 1)), x]\n",
    "lr_model = LinearRegression()\n",
    "lr_model.fit(x_train,y)"
   ]
  },
  {
   "cell_type": "code",
   "execution_count": 8,
   "metadata": {},
   "outputs": [],
   "source": [
    "predicted_values = lr_model.predict(x_train)"
   ]
  },
  {
   "cell_type": "code",
   "execution_count": 9,
   "metadata": {},
   "outputs": [],
   "source": [
    "# Model param\n",
    "intercept, coeffs = lr_model.wt\n",
    "cost_history = lr_model.cost"
   ]
  },
  {
   "cell_type": "code",
   "execution_count": 10,
   "metadata": {},
   "outputs": [
    {
     "name": "stdout",
     "output_type": "stream",
     "text": [
      "Intercept: [2.58109277], Coefficient [2.89114079]\n"
     ]
    }
   ],
   "source": [
    "print(\"Intercept: {}, Coefficient {}\".format(intercept, coeffs))"
   ]
  },
  {
   "cell_type": "code",
   "execution_count": 11,
   "metadata": {},
   "outputs": [],
   "source": [
    "def scatter_plot(x, y, size=10, x_label='x', y_label='y', color='b'):\n",
    "    plt.scatter(x, y, s=size, color=color)\n",
    "    plt.xlabel(x_label)\n",
    "    plt.ylabel(y_label)"
   ]
  },
  {
   "cell_type": "code",
   "execution_count": 12,
   "metadata": {},
   "outputs": [
    {
     "data": {
      "text/plain": [
       "[<matplotlib.lines.Line2D at 0x7f06c9aeb2b0>]"
      ]
     },
     "execution_count": 12,
     "metadata": {},
     "output_type": "execute_result"
    },
    {
     "data": {
      "image/png": "[encoded data removed]",
      "text/plain": [
       "<Figure size 432x288 with 1 Axes>"
      ]
     },
     "metadata": {
      "needs_background": "light"
     },
     "output_type": "display_data"
    }
   ],
   "source": [
    "# plotting\n",
    "scatter_plot(x, y)\n",
    "plt.plot(x, predicted_values,color='r')"
   ]
  },
  {
   "cell_type": "code",
   "execution_count": 13,
   "metadata": {},
   "outputs": [
    {
     "data": {
      "text/plain": [
       "[<matplotlib.lines.Line2D at 0x7f06c9a1d6d8>]"
      ]
     },
     "execution_count": 13,
     "metadata": {},
     "output_type": "execute_result"
    },
    {
     "data": {
      "image/png": "[encoded data removed]",
      "text/plain": [
       "<Figure size 432x288 with 1 Axes>"
      ]
     },
     "metadata": {
      "needs_background": "light"
     },
     "output_type": "display_data"
    }
   ],
   "source": [
    "# Plotting Cost\n",
    "plt.plot(cost_history)"
   ]
  },
  {
   "cell_type": "code",
   "execution_count": 14,
   "metadata": {},
   "outputs": [
    {
     "name": "stdout",
     "output_type": "stream",
     "text": [
      "RMSE:  0.02764182038967211\n"
     ]
    }
   ],
   "source": [
    "# Evaluation\n",
    "rmse = RMSE(y, predicted_values)/m\n",
    "print(\"RMSE: \",rmse)"
   ]
  },
  {
   "cell_type": "markdown",
   "metadata": {},
   "source": [
    "<strong>References:-</strong> \n",
    "1. Andrew Ng Machine Learning Course\n",
    "2. [Amish Agrawal](https://towardsdatascience.com/@animeshblog)"
   ]
  }
 ],
 "metadata": {
  "kernelspec": {
   "display_name": "Python 3",
   "language": "python",
   "name": "python3"
  },
  "language_info": {
   "codemirror_mode": {
    "name": "ipython",
    "version": 3
   },
   "file_extension": ".py",
   "mimetype": "text/x-python",
   "name": "python",
   "nbconvert_exporter": "python",
   "pygments_lexer": "ipython3",
   "version": "3.6.8"
  }
 },
 "nbformat": 4,
 "nbformat_minor": 2
}
