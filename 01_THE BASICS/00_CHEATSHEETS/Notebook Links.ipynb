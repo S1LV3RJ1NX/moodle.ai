{
 "cells": [
  {
   "cell_type": "markdown",
   "metadata": {},
   "source": [
    "# PDF Links:\n",
    "\n",
    "You can download from these links:"
   ]
  },
  {
   "cell_type": "markdown",
   "metadata": {},
   "source": [
    "[Importing data](https://drive.google.com/open?id=1qCwp5SZzN52Q0Hvo5NYBYZ_T-rpb2CW3)\n",
    "\n",
    "[Jupyter NB](https://drive.google.com/open?id=1Q2J8UO1mwHDVG8lSeRu_etjj5YGexNhf)\n",
    "\n",
    "[Numpy](https://drive.google.com/open?id=17W8YmuE98dk_-UUuzDkpbjEVD9vGNcsg)\n",
    "\n",
    "[Pandas-1](https://drive.google.com/file/d/1_2V_IcEuf-w1o-Cl5fR4Pm88HQehV988/view?usp=sharing)\n",
    "\n",
    "[Pandas-2](https://drive.google.com/open?id=10fTRCxl9AtSgg8KjqVX3FNkCMVGmVeya)\n",
    "\n",
    "[Matplotlib](https://drive.google.com/open?id=18wYF6C-3h5cwVAWbHvclJDA6gCc0NnYq)\n",
    "\n",
    "[Seaborn](https://drive.google.com/open?id=1hyZsG2BQYSdRH2yFVtp-Nrjfu6CuZIQ-)\n",
    "\n",
    "[Scikit-learn](https://drive.google.com/open?id=1Nd09DXVZ_zU5bfuJiPXkbHHBVlOILW-T)"
   ]
  }
 ],
 "metadata": {
  "kernelspec": {
   "display_name": "Python 3",
   "language": "python",
   "name": "python3"
  },
  "language_info": {
   "codemirror_mode": {
    "name": "ipython",
    "version": 3
   },
   "file_extension": ".py",
   "mimetype": "text/x-python",
   "name": "python",
   "nbconvert_exporter": "python",
   "pygments_lexer": "ipython3",
   "version": "3.6.8"
  }
 },
 "nbformat": 4,
 "nbformat_minor": 2
}
