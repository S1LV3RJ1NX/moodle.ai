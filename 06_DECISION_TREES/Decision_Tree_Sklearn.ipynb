{
 "cells": [
  {
   "cell_type": "markdown",
   "metadata": {},
   "source": [
    "# Decision Tree Classification using Scikit-learn"
   ]
  },
  {
   "cell_type": "code",
   "execution_count": 21,
   "metadata": {},
   "outputs": [],
   "source": [
    "import numpy as np\n",
    "import pandas as pd\n",
    "from sklearn.tree import DecisionTreeClassifier\n",
    "from sklearn.preprocessing import LabelEncoder\n",
    "from sklearn.feature_extraction import DictVectorizer"
   ]
  },
  {
   "cell_type": "code",
   "execution_count": 23,
   "metadata": {},
   "outputs": [],
   "source": [
    "dataset = {\n",
    "    'outlook':['Sunny','Sunny','Overcast','Rain','Rain','Rain','Overcast','Sunny','Sunny','Rain','Sunny','Overcast','Overcast','Rain'],\n",
    "    'temp':['Hot','Hot','Hot','Mild','Cool','Cool','Cool','Mild','Cool','Mild','Mild','Mild','Hot','Mild'],\n",
    "    'humidity':['High','High','High','High','Normal','Normal','Normal','High','Normal','Normal','Normal','High','Normal','High'],\n",
    "    'wind':['Weak','Strong','Weak','Weak','Weak','Strong','Weak','Weak','Weak','Strong','Strong','Strong','Weak','Strong'],\n",
    "    'play_tennis':['No','No','Yes','Yes','Yes','No','Yes','No','Yes','Yes','Yes','Yes','Yes','No']\n",
    "}"
   ]
  },
  {
   "cell_type": "code",
   "execution_count": 24,
   "metadata": {},
   "outputs": [],
   "source": [
    "df = pd.DataFrame(dataset,columns=['outlook','temp','humidity','wind','play_tennis'])"
   ]
  },
  {
   "cell_type": "code",
   "execution_count": 39,
   "metadata": {},
   "outputs": [],
   "source": [
    "cols_to_retain = ['outlook', 'temp', 'humidity', 'wind']\n",
    "X_feature = df[cols_to_retain]\n",
    "X_dict = X_feature.T.to_dict().values()\n",
    "\n",
    "# turn list of dicts into a numpy array\n",
    "vect = DictVectorizer(sparse=False)\n",
    "X_vector = vect.fit_transform(X_dict)\n",
    "X_train = X_vector[:-1]\n",
    "X_test = X_vector[-1:] "
   ]
  },
  {
   "cell_type": "code",
   "execution_count": 40,
   "metadata": {},
   "outputs": [
    {
     "data": {
      "text/plain": [
       "['humidity=High',\n",
       " 'humidity=Normal',\n",
       " 'outlook=Overcast',\n",
       " 'outlook=Rain',\n",
       " 'outlook=Sunny',\n",
       " 'temp=Cool',\n",
       " 'temp=Hot',\n",
       " 'temp=Mild',\n",
       " 'wind=Strong',\n",
       " 'wind=Weak']"
      ]
     },
     "execution_count": 40,
     "metadata": {},
     "output_type": "execute_result"
    }
   ],
   "source": [
    "vect.get_feature_names()"
   ]
  },
  {
   "cell_type": "code",
   "execution_count": 41,
   "metadata": {},
   "outputs": [
    {
     "data": {
      "text/plain": [
       "array([[1., 0., 0., 0., 1., 0., 1., 0., 0., 1.],\n",
       "       [1., 0., 0., 0., 1., 0., 1., 0., 1., 0.],\n",
       "       [1., 0., 1., 0., 0., 0., 1., 0., 0., 1.],\n",
       "       [1., 0., 0., 1., 0., 0., 0., 1., 0., 1.],\n",
       "       [0., 1., 0., 1., 0., 1., 0., 0., 0., 1.],\n",
       "       [0., 1., 0., 1., 0., 1., 0., 0., 1., 0.],\n",
       "       [0., 1., 1., 0., 0., 1., 0., 0., 0., 1.],\n",
       "       [1., 0., 0., 0., 1., 0., 0., 1., 0., 1.],\n",
       "       [0., 1., 0., 0., 1., 1., 0., 0., 0., 1.],\n",
       "       [0., 1., 0., 1., 0., 0., 0., 1., 1., 0.],\n",
       "       [0., 1., 0., 0., 1., 0., 0., 1., 1., 0.],\n",
       "       [1., 0., 1., 0., 0., 0., 0., 1., 1., 0.],\n",
       "       [0., 1., 1., 0., 0., 0., 1., 0., 0., 1.],\n",
       "       [1., 0., 0., 1., 0., 0., 0., 1., 1., 0.]])"
      ]
     },
     "execution_count": 41,
     "metadata": {},
     "output_type": "execute_result"
    }
   ],
   "source": [
    "X_vector"
   ]
  },
  {
   "cell_type": "code",
   "execution_count": 44,
   "metadata": {},
   "outputs": [],
   "source": [
    "le = LabelEncoder()\n",
    "y_train = le.fit_transform(df['play_tennis'][:-1])"
   ]
  },
  {
   "cell_type": "code",
   "execution_count": 45,
   "metadata": {},
   "outputs": [
    {
     "data": {
      "text/plain": [
       "array([0, 0, 1, 1, 1, 0, 1, 0, 1, 1, 1, 1, 1])"
      ]
     },
     "execution_count": 45,
     "metadata": {},
     "output_type": "execute_result"
    }
   ],
   "source": [
    "y_train"
   ]
  },
  {
   "cell_type": "code",
   "execution_count": 47,
   "metadata": {},
   "outputs": [],
   "source": [
    "clf = DecisionTreeClassifier(criterion='entropy')\n",
    "clf = clf.fit(X_train,y_train)"
   ]
  },
  {
   "cell_type": "code",
   "execution_count": 49,
   "metadata": {},
   "outputs": [
    {
     "data": {
      "text/plain": [
       "array(['Yes'], dtype=object)"
      ]
     },
     "execution_count": 49,
     "metadata": {},
     "output_type": "execute_result"
    }
   ],
   "source": [
    "le.inverse_transform(clf.predict(X_test))"
   ]
  },
  {
   "cell_type": "code",
   "execution_count": 52,
   "metadata": {},
   "outputs": [
    {
     "name": "stdout",
     "output_type": "stream",
     "text": [
      "Accuracy is: 1.0\n",
      "              precision    recall  f1-score   support\n",
      "\n",
      "           0       1.00      1.00      1.00         4\n",
      "           1       1.00      1.00      1.00         9\n",
      "\n",
      "   micro avg       1.00      1.00      1.00        13\n",
      "   macro avg       1.00      1.00      1.00        13\n",
      "weighted avg       1.00      1.00      1.00        13\n",
      "\n"
     ]
    }
   ],
   "source": [
    "# Metrics related to the DecisionTreeClassifier\n",
    "from sklearn.metrics import accuracy_score, classification_report\n",
    "\n",
    "print ('Accuracy is:', accuracy_score(y_train, clf.predict(X_train)))\n",
    "print (classification_report(y_train, clf.predict(X_train)))"
   ]
  }
 ],
 "metadata": {
  "kernelspec": {
   "display_name": "Python 3",
   "language": "python",
   "name": "python3"
  },
  "language_info": {
   "codemirror_mode": {
    "name": "ipython",
    "version": 3
   },
   "file_extension": ".py",
   "mimetype": "text/x-python",
   "name": "python",
   "nbconvert_exporter": "python",
   "pygments_lexer": "ipython3",
   "version": "3.6.8"
  }
 },
 "nbformat": 4,
 "nbformat_minor": 2
}
